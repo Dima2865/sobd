{
 "cells": [
  {
   "cell_type": "markdown",
   "metadata": {},
   "source": [
    "## Лабораторная работа № 2 \n",
    "## Машинное обучение на больших данных с использованием фреймворка Apache Spark и библиотеки SparkML"
   ]
  },
  {
   "cell_type": "markdown",
   "metadata": {},
   "source": [
    "### Часть 1\n",
    "\n",
    "В данной части работы рассмотрены:\n",
    "* подготовка признаков для рашения задачи **линейной регрессии**;\n",
    "* создание и обучение модели линейной регрессии;\n",
    "* оценка качества модели."
   ]
  },
  {
   "cell_type": "markdown",
   "metadata": {},
   "source": [
    "#### Запуск `Spark`-сессии\n",
    "\n",
    "Подключаем необходимые библиотеки."
   ]
  },
  {
   "cell_type": "code",
   "execution_count": 1,
   "metadata": {},
   "outputs": [],
   "source": [
    "import os\n",
    "import csv\n",
    "from pyspark.sql import SparkSession, DataFrame\n",
    "from pyspark import SparkConf\n",
    "from pyspark.ml.feature import VectorAssembler, StringIndexer, OneHotEncoder, MinMaxScaler, Binarizer\n",
    "from pyspark.ml.regression import LinearRegression\n",
    "from pyspark.ml.evaluation import RegressionEvaluator\n",
    "from pyspark.ml.tuning import CrossValidator, CrossValidatorModel, ParamGridBuilder\n",
    "from pyspark.ml import Pipeline\n",
    "from pyspark.sql.functions import col\n",
    "from pyspark.sql.types import DoubleType\n",
    "import seaborn as sns\n",
    "import matplotlib.pyplot as plt"
   ]
  },
  {
   "cell_type": "markdown",
   "metadata": {},
   "source": [
    "Сформируем объект конфигурации для `Apache Spark`, указав необходимые параметры."
   ]
  },
  {
   "cell_type": "code",
   "execution_count": 2,
   "metadata": {},
   "outputs": [],
   "source": [
    "def create_spark_configuration() -> SparkConf:\n",
    "    \"\"\"\n",
    "    Создает и конфигурирует экземпляр SparkConf для приложения Spark.\n",
    "\n",
    "    Returns:\n",
    "        SparkConf: Настроенный экземпляр SparkConf.\n",
    "    \"\"\"\n",
    "    # Получаем имя пользователя\n",
    "    user_name = os.getenv(\"USER\")\n",
    "    \n",
    "    conf = SparkConf()\n",
    "    conf.setAppName(\"lab 2 Test\")\n",
    "    conf.setMaster(\"yarn\")\n",
    "    conf.set(\"spark.submit.deployMode\", \"client\")\n",
    "    conf.set(\"spark.executor.memory\", \"12g\")\n",
    "    conf.set(\"spark.executor.cores\", \"8\")\n",
    "    conf.set(\"spark.executor.instances\", \"6\")\n",
    "    conf.set(\"spark.driver.memory\", \"4g\")\n",
    "    conf.set(\"spark.driver.cores\", \"2\")\n",
    "    conf.set(\"spark.jars.packages\", \"org.apache.iceberg:iceberg-spark-runtime-3.5_2.12:1.6.0\")\n",
    "    conf.set(\"spark.sql.extensions\", \"org.apache.iceberg.spark.extensions.IcebergSparkSessionExtensions\")\n",
    "    conf.set(\"spark.sql.catalog.spark_catalog\", \"org.apache.iceberg.spark.SparkCatalog\")\n",
    "    conf.set(\"spark.sql.catalog.spark_catalog.type\", \"hadoop\")\n",
    "    conf.set(\"spark.sql.catalog.spark_catalog.warehouse\", f\"hdfs:///user/{user_name}/warehouse\")\n",
    "    conf.set(\"spark.sql.catalog.spark_catalog.io-impl\", \"org.apache.iceberg.hadoop.HadoopFileIO\")\n",
    "\n",
    "    return conf"
   ]
  },
  {
   "cell_type": "markdown",
   "metadata": {},
   "source": [
    "Создаём сам объект конфигурации."
   ]
  },
  {
   "cell_type": "code",
   "execution_count": 3,
   "metadata": {},
   "outputs": [],
   "source": [
    "conf = create_spark_configuration()"
   ]
  },
  {
   "cell_type": "markdown",
   "metadata": {},
   "source": [
    "Создаём и выводим на экран сессию `Apache Spark`. В процессе создания сессии происходит подключение к кластеру `Apache Hadoop`, что может занять некоторое время."
   ]
  },
  {
   "cell_type": "code",
   "execution_count": 4,
   "metadata": {},
   "outputs": [
    {
     "name": "stdout",
     "output_type": "stream",
     "text": [
      ":: loading settings :: url = jar:file:/opt/spark-3.5.2-bin-hadoop3/jars/ivy-2.5.1.jar!/org/apache/ivy/core/settings/ivysettings.xml\n"
     ]
    },
    {
     "name": "stderr",
     "output_type": "stream",
     "text": [
      "Ivy Default Cache set to: /home/user0/.ivy2/cache\n",
      "The jars for the packages stored in: /home/user0/.ivy2/jars\n",
      "org.apache.iceberg#iceberg-spark-runtime-3.5_2.12 added as a dependency\n",
      ":: resolving dependencies :: org.apache.spark#spark-submit-parent-08d2ccf1-ed9f-428f-bfa5-4e707eacd72e;1.0\n",
      "\tconfs: [default]\n",
      "\tfound org.apache.iceberg#iceberg-spark-runtime-3.5_2.12;1.6.0 in central\n",
      ":: resolution report :: resolve 613ms :: artifacts dl 22ms\n",
      "\t:: modules in use:\n",
      "\torg.apache.iceberg#iceberg-spark-runtime-3.5_2.12;1.6.0 from central in [default]\n",
      "\t---------------------------------------------------------------------\n",
      "\t|                  |            modules            ||   artifacts   |\n",
      "\t|       conf       | number| search|dwnlded|evicted|| number|dwnlded|\n",
      "\t---------------------------------------------------------------------\n",
      "\t|      default     |   1   |   0   |   0   |   0   ||   1   |   0   |\n",
      "\t---------------------------------------------------------------------\n",
      ":: retrieving :: org.apache.spark#spark-submit-parent-08d2ccf1-ed9f-428f-bfa5-4e707eacd72e\n",
      "\tconfs: [default]\n",
      "\t0 artifacts copied, 1 already retrieved (0kB/27ms)\n",
      "Setting default log level to \"WARN\".\n",
      "To adjust logging level use sc.setLogLevel(newLevel). For SparkR, use setLogLevel(newLevel).\n",
      "24/11/17 14:06:57 WARN Client: Neither spark.yarn.jars nor spark.yarn.archive is set, falling back to uploading libraries under SPARK_HOME.\n",
      "24/11/17 14:07:17 WARN Client: Same path resource file:///home/user0/.ivy2/jars/org.apache.iceberg_iceberg-spark-runtime-3.5_2.12-1.6.0.jar added multiple times to distributed cache.\n"
     ]
    },
    {
     "data": {
      "text/html": [
       "\n",
       "            <div>\n",
       "                <p><b>SparkSession - in-memory</b></p>\n",
       "                \n",
       "        <div>\n",
       "            <p><b>SparkContext</b></p>\n",
       "\n",
       "            <p><a href=\"http://node32.cluster:4040\">Spark UI</a></p>\n",
       "\n",
       "            <dl>\n",
       "              <dt>Version</dt>\n",
       "                <dd><code>v3.5.2</code></dd>\n",
       "              <dt>Master</dt>\n",
       "                <dd><code>yarn</code></dd>\n",
       "              <dt>AppName</dt>\n",
       "                <dd><code>lab 2 Test</code></dd>\n",
       "            </dl>\n",
       "        </div>\n",
       "        \n",
       "            </div>\n",
       "        "
      ],
      "text/plain": [
       "<pyspark.sql.session.SparkSession at 0x7fa7b2d89ed0>"
      ]
     },
     "execution_count": 4,
     "metadata": {},
     "output_type": "execute_result"
    }
   ],
   "source": [
    "spark = SparkSession.builder.config(conf=conf).getOrCreate()\n",
    "spark"
   ]
  },
  {
   "cell_type": "markdown",
   "metadata": {},
   "source": [
    "#### Загрузка датасета\n",
    "\n",
    "Укажем базу данных, которая была создана в первой лабораторной работе."
   ]
  },
  {
   "cell_type": "code",
   "execution_count": 5,
   "metadata": {},
   "outputs": [],
   "source": [
    "database_name = \"gysynin_dmitry_database\""
   ]
  },
  {
   "cell_type": "markdown",
   "metadata": {},
   "source": [
    "Установим созданную базу данных как текущую."
   ]
  },
  {
   "cell_type": "code",
   "execution_count": 6,
   "metadata": {},
   "outputs": [],
   "source": [
    "spark.catalog.setCurrentDatabase(database_name)"
   ]
  },
  {
   "cell_type": "markdown",
   "metadata": {},
   "source": [
    "Прочитаем таблицу с **предобработанным датасетом** и загрузим её в `Spark Dataframe`."
   ]
  },
  {
   "cell_type": "code",
   "execution_count": 7,
   "metadata": {},
   "outputs": [],
   "source": [
    "df = spark.table(\"sobd_lab1_processed_table\")"
   ]
  },
  {
   "cell_type": "markdown",
   "metadata": {},
   "source": [
    "Выведем прочитанную таблицу на экран."
   ]
  },
  {
   "cell_type": "code",
   "execution_count": 8,
   "metadata": {},
   "outputs": [
    {
     "name": "stderr",
     "output_type": "stream",
     "text": [
      "                                                                                \r"
     ]
    },
    {
     "name": "stdout",
     "output_type": "stream",
     "text": [
      "+--------+---------------+-------------+----------+------------------+------------+-----------+-----+----------+------------+------------+\n",
      "|VendorID|passenger_count|trip_distance|RateCodeID|store_and_fwd_flag|payment_type|fare_amount|extra|tip_amount|tolls_amount|total_amount|\n",
      "+--------+---------------+-------------+----------+------------------+------------+-----------+-----+----------+------------+------------+\n",
      "|       2|              1|         2.72|         1|             false|           1|       12.5|  0.5|      3.25|         0.0|       17.05|\n",
      "|       2|              1|         1.59|         1|             false|           1|        7.5|  0.5|       1.6|         0.0|        10.4|\n",
      "|       2|              1|          0.9|         1|             false|           1|        6.0|  0.5|       1.0|         0.0|         8.3|\n",
      "|       2|              1|         1.96|         1|             false|           1|        9.5|  0.5|       2.0|         0.0|        12.8|\n",
      "|       2|              3|         8.93|         1|             false|           1|       32.0|  0.5|       0.0|         0.0|        33.3|\n",
      "|       2|              1|         2.45|         1|             false|           1|       13.0|  0.5|       2.7|         0.0|        17.0|\n",
      "|       2|              2|         2.63|         1|             false|           1|       11.5|  0.5|       2.4|         0.0|        15.2|\n",
      "|       2|              1|         1.11|         1|             false|           1|        6.5|  0.5|       1.4|         0.0|         9.2|\n",
      "|       2|              1|          1.7|         1|             false|           1|        8.5|  0.5|       5.0|         0.0|        14.8|\n",
      "|       2|              4|         0.93|         1|             false|           2|        6.5|  0.5|       0.0|         0.0|         7.8|\n",
      "|       2|              1|         1.39|         1|             false|           2|        7.0|  0.5|       0.0|         0.0|         8.3|\n",
      "|       2|              5|          2.0|         1|             false|           2|       10.0|  0.5|       0.0|         0.0|        11.3|\n",
      "|       2|              1|          1.3|         1|             false|           2|        7.0|  0.5|       0.0|         0.0|         8.3|\n",
      "|       2|              1|        17.43|         1|             false|           2|       49.0|  0.5|       0.0|         0.0|        50.3|\n",
      "|       1|              4|          3.5|         1|             false|           2|       15.0|  1.0|       0.0|         0.0|        16.8|\n",
      "|       1|              1|          2.2|         1|             false|           1|       12.5|  1.0|      2.86|         0.0|       17.16|\n",
      "|       1|              1|          0.0|         1|             false|           2|        7.0|  1.0|       0.0|         0.0|         8.8|\n",
      "|       1|              1|          0.6|         1|             false|           1|        4.0|  1.0|      1.16|         0.0|        6.96|\n",
      "|       1|              1|          2.2|         1|             false|           2|       11.5|  1.0|       0.0|         0.0|        13.3|\n",
      "|       1|              1|          1.5|         1|             false|           2|        8.0|  1.0|       0.0|         0.0|         9.8|\n",
      "+--------+---------------+-------------+----------+------------------+------------+-----------+-----+----------+------------+------------+\n",
      "only showing top 20 rows\n",
      "\n"
     ]
    }
   ],
   "source": [
    "df.show()"
   ]
  },
  {
   "cell_type": "markdown",
   "metadata": {},
   "source": [
    "Вспомним описание столбцов и параметры датасета, проанализированные в первой лабораторной работе.\n",
    "\n",
    "| Название столбца  | Расшифровка |\n",
    "| ------------- | ------------- |\n",
    "| VendorID | Код, указывающий на поставщика услуг TPEP, который предоставил запись. 1 - Creative Mobile Technologies 2- VeriFone Inc. |\n",
    "| passenger_count | Количество пассажиров |\n",
    "| trip_distance | Расстояние поездки |\n",
    "| RateCodeID | Окончательный код тарифа, действующий в конце поездки. 1- Стандартный тариф 2- JFK 3- Ньюарк 4- Нассау или Вестчестер 5- Тариф по договоренности 6- Групповая поездка |\n",
    "| store_and_fwd_flag | Этот флаг указывает, хранилась ли запись о поездке в памяти автомобиля перед отправкой поставщику, так называемый «store and forward», поскольку автомобиль не имел соединения с сервером. Y = поездка с сохранением и пересылкой N= не поездка с сохранением и пересылкой |\n",
    "| payment_type | Цифровой код, обозначающий, каким образом пассажир оплатил поездку. 1- Кредитная карта 2- Наличные 3- Без оплаты 4-Спор 5- Неизвестно 6-Анулированная поездка |\n",
    "| fare_amount | Тариф за время и расстояние, рассчитанный счетчиком. |\n",
    "| extra | Различные доплаты и надбавки. В настоящее время сюда входят только сборы в размере 0,50 и 1 доллара в час пик и ночные сборы. |\n",
    "| tip_amount | Сумма чаевых - Это поле автоматически заполняется для чаевых по кредитной карте. Чаевые наличными не учитываются. |\n",
    "| tolls_amount | Общая сумма всех дорожных сборов, оплаченных в поездке. |\n",
    "| total_amount | Общая сумма, взимаемая с пассажиров. Не включает денежные чаевые. |"
   ]
  },
  {
   "cell_type": "markdown",
   "metadata": {},
   "source": [
    "Вспомним схему данных."
   ]
  },
  {
   "cell_type": "code",
   "execution_count": 9,
   "metadata": {},
   "outputs": [
    {
     "name": "stdout",
     "output_type": "stream",
     "text": [
      "root\n",
      " |-- VendorID: integer (nullable = true)\n",
      " |-- passenger_count: integer (nullable = true)\n",
      " |-- trip_distance: float (nullable = true)\n",
      " |-- RateCodeID: integer (nullable = true)\n",
      " |-- store_and_fwd_flag: boolean (nullable = true)\n",
      " |-- payment_type: integer (nullable = true)\n",
      " |-- fare_amount: float (nullable = true)\n",
      " |-- extra: float (nullable = true)\n",
      " |-- tip_amount: float (nullable = true)\n",
      " |-- tolls_amount: float (nullable = true)\n",
      " |-- total_amount: float (nullable = true)\n",
      "\n"
     ]
    }
   ],
   "source": [
    "df.printSchema()"
   ]
  },
  {
   "cell_type": "markdown",
   "metadata": {},
   "source": [
    "Вычислим количество строк в датафрейме."
   ]
  },
  {
   "cell_type": "code",
   "execution_count": 10,
   "metadata": {},
   "outputs": [
    {
     "name": "stderr",
     "output_type": "stream",
     "text": [
      "                                                                                \r"
     ]
    },
    {
     "data": {
      "text/plain": [
       "6036111"
      ]
     },
     "execution_count": 10,
     "metadata": {},
     "output_type": "execute_result"
    }
   ],
   "source": [
    "df.count()"
   ]
  },
  {
   "cell_type": "markdown",
   "metadata": {},
   "source": [
    "#### Постановка задачи линейной регрессии\n",
    "\n",
    "Для датасета, заданного представленными колонками, требуется построить модель линейной регрессии для оценки **расстояния поездки** по всем остальным признакам. \n",
    "\n",
    "Для оценки качества обучения следует использовать метрики $RMSE$ и $R^2$."
   ]
  },
  {
   "cell_type": "markdown",
   "metadata": {},
   "source": [
    "#### Подготовка и кодирование признаков\n",
    "\n",
    "Для корректной работы трансформеров преобразуем столбец `` к типу `DoubleType`."
   ]
  },
  {
   "cell_type": "code",
   "execution_count": 11,
   "metadata": {},
   "outputs": [],
   "source": [
    "df = df.withColumn(\"VendorID\", col(\"VendorID\").cast(DoubleType()))\n",
    "df = df.withColumn(\"passenger_count\", col(\"passenger_count\").cast(DoubleType()))\n",
    "df = df.withColumn(\"RateCodeID\", col(\"RateCodeID\").cast(DoubleType()))\n",
    "df = df.withColumn(\"payment_type\", col(\"payment_type\").cast(DoubleType()))\n"
   ]
  },
  {
   "cell_type": "markdown",
   "metadata": {},
   "source": [
    "Отделим от датасета некоторую часть объёмом примерно 1000 строк, и сохраним её на диске как локальный `csv`-файл. Он понадобится в следующей лабораторной работе."
   ]
  },
  {
   "cell_type": "code",
   "execution_count": 12,
   "metadata": {},
   "outputs": [],
   "source": [
    "def save_sample_to_csv(data: DataFrame, file_path: str, \n",
    "                       sample_size: int = 1000) -> DataFrame:\n",
    "    \"\"\"\n",
    "    Сохраняет первые `sample_size` строк из DataFrame в CSV-файл \n",
    "    на драйвере и возвращает DataFrame с оставшимися данными.\n",
    "\n",
    "    Args:\n",
    "        data (DataFrame): DataFrame, из которого нужно извлечь\n",
    "            строки.\n",
    "        file_path (str): Путь для сохранения CSV-файла.\n",
    "        sample_size (int): Количество строк для сохранения\n",
    "            (по умолчанию 1000).\n",
    "\n",
    "    Returns:\n",
    "        DataFrame: DataFrame с оставшимися данными.\n",
    "    \"\"\"\n",
    "    # Определяем пропорции для разделения\n",
    "    sample_fraction = sample_size / data.count()\n",
    "    remaining_fraction = 1 - sample_fraction\n",
    "\n",
    "    # Разделяем DataFrame на два непересекающихся набора данных\n",
    "    sample_data, remaining_data = data.randomSplit(\n",
    "        [sample_fraction, remaining_fraction]\n",
    "    )\n",
    "\n",
    "    # Сохраняем извлеченные строки в CSV-файл на драйвере\n",
    "    try:\n",
    "        with open(file_path, mode=\"w\", newline=\"\") as file:\n",
    "            writer = csv.writer(file)\n",
    "\n",
    "            # Записываем заголовок\n",
    "            writer.writerow(data.columns)\n",
    "\n",
    "            # Записываем строки\n",
    "            for row in sample_data.take(sample_size):\n",
    "                writer.writerow(row)\n",
    "        print(f\"Файл \\\"{file_path}\\\" с данными успешно создан.\")\n",
    "\n",
    "    except Exception as e:\n",
    "        print(f\"Ошибка при записи файла: {e}\")\n",
    "\n",
    "    return remaining_data"
   ]
  },
  {
   "cell_type": "markdown",
   "metadata": {},
   "source": [
    "Определяем путь для сохранения `csv`-файла."
   ]
  },
  {
   "cell_type": "code",
   "execution_count": 13,
   "metadata": {},
   "outputs": [
    {
     "name": "stderr",
     "output_type": "stream",
     "text": [
      "                                                                                \r"
     ]
    },
    {
     "name": "stdout",
     "output_type": "stream",
     "text": [
      "Файл \"streaming-data.csv\" с данными успешно создан.\n"
     ]
    }
   ],
   "source": [
    "path = \"streaming-data.csv\"\n",
    "\n",
    "df = save_sample_to_csv(data=df, file_path=path, sample_size=1000)"
   ]
  },
  {
   "cell_type": "markdown",
   "metadata": {},
   "source": [
    "Оцениваем, сколько строк в датасете осталось."
   ]
  },
  {
   "cell_type": "code",
   "execution_count": 14,
   "metadata": {},
   "outputs": [
    {
     "name": "stderr",
     "output_type": "stream",
     "text": [
      "                                                                                \r"
     ]
    },
    {
     "data": {
      "text/plain": [
       "6035138"
      ]
     },
     "execution_count": 14,
     "metadata": {},
     "output_type": "execute_result"
    }
   ],
   "source": [
    "df.count()"
   ]
  },
  {
   "cell_type": "markdown",
   "metadata": {},
   "source": [
    "Разделим датасет на обучающую и тестовую выборки."
   ]
  },
  {
   "cell_type": "code",
   "execution_count": 15,
   "metadata": {},
   "outputs": [],
   "source": [
    "train_df, test_df = df.randomSplit([0.8, 0.2])"
   ]
  },
  {
   "cell_type": "code",
   "execution_count": 16,
   "metadata": {},
   "outputs": [
    {
     "name": "stderr",
     "output_type": "stream",
     "text": [
      "                                                                                \r"
     ]
    },
    {
     "name": "stdout",
     "output_type": "stream",
     "text": [
      "Train dataset size: 4828929\n"
     ]
    },
    {
     "name": "stderr",
     "output_type": "stream",
     "text": [
      "[Stage 17:>                                                         (0 + 1) / 1]\r"
     ]
    },
    {
     "name": "stdout",
     "output_type": "stream",
     "text": [
      "Test  dataset size: 1206209\n"
     ]
    },
    {
     "name": "stderr",
     "output_type": "stream",
     "text": [
      "                                                                                \r"
     ]
    }
   ],
   "source": [
    "print(f\"Train dataset size: {train_df.count()}\")\n",
    "print(f\"Test  dataset size: {test_df.count()}\")"
   ]
  },
  {
   "cell_type": "markdown",
   "metadata": {},
   "source": [
    "Остальные признаки сгруппируем по их типу:\n",
    "\n",
    "* **Категориальные** признаки не содержат большого количества категорий, закодируем их `one-hot`-кодировкой.\n",
    "* **Бинарные** признаки представлены значениями `true` / `false`, которые могут быть интерпретированы как единица и нуль. Поэтому, в кодировании не нуждаются.\n",
    "* **Количественные** признаки нужно нормализовать / стандартизировать, перед тем, как передавать их в модель.\n",
    "* **Бинаризуем** количество пассажиров по порогу 5."
   ]
  },
  {
   "cell_type": "code",
   "execution_count": 17,
   "metadata": {},
   "outputs": [],
   "source": [
    "categorical_features = [\"VendorID\", \"RateCodeID\", \"payment_type\"]\n",
    "binary_features = [\"store_and_fwd_flag\"]\n",
    "numeric_features = [\n",
    "    # \"trip_distance\", \n",
    "    \"fare_amount\", \"extra\", \"tip_amount\", \"tolls_amount\", \"total_amount\"]\n",
    "binarizable_feature = \"passenger_count\""
   ]
  },
  {
   "cell_type": "markdown",
   "metadata": {},
   "source": [
    "Создадим конвейер обработки данных, включающий модель линейной регрессии."
   ]
  },
  {
   "cell_type": "code",
   "execution_count": 18,
   "metadata": {},
   "outputs": [],
   "source": [
    "def create_pipeline(categorical_features: list[str], numeric_features: list[str], \n",
    "                    binary_features: list[str], \n",
    "                    binarized_col: str, \n",
    "                    threshold: float, \n",
    "                    label_col: str, max_iter: int) -> Pipeline:\n",
    "    \n",
    "    # Формируем названия колонок для преобразованных признаков\n",
    "    indexed_categorical_features = [f\"{feature}_index\" for feature in categorical_features]\n",
    "    onehot_categorical_features = [f\"{feature}_ohe\" for feature in categorical_features]\n",
    "    \n",
    "    # Выполняем преобразования данных\n",
    "    string_indexer = StringIndexer(inputCols=categorical_features,\n",
    "                                   outputCols=indexed_categorical_features,\n",
    "                                   handleInvalid=\"keep\")\n",
    "    onehot_encoder = OneHotEncoder(inputCols=indexed_categorical_features,\n",
    "                                   outputCols=onehot_categorical_features,\n",
    "                                   dropLast=True,\n",
    "                                   handleInvalid=\"keep\")\n",
    "    vector_num_assembler = VectorAssembler(inputCols=numeric_features,\n",
    "                                           outputCol=\"numeric_vector\")\n",
    "    numeric_scaler = MinMaxScaler(inputCol=\"numeric_vector\",\n",
    "                                   outputCol=\"numeric_vector_scaled\")\n",
    "    binarizer = Binarizer(inputCol=binarized_col,\n",
    "                          outputCol=\"passenger_count_binary\",\n",
    "                          threshold=threshold)\n",
    "    vector_all_assembler = VectorAssembler(\n",
    "        inputCols=(onehot_categorical_features + binary_features +\n",
    "                   [\"numeric_vector_scaled\", \"passenger_count_binary\"]),\n",
    "        outputCol=\"features\"\n",
    "    )\n",
    "\n",
    "    # Создаем модель линейной регрессии\n",
    "    linear_regression = LinearRegression(featuresCol=\"features\",\n",
    "                                         labelCol=label_col,\n",
    "                                         predictionCol=\"prediction\",\n",
    "                                         standardization=False,\n",
    "                                         maxIter=max_iter)\n",
    "\n",
    "    # Создаем конвейер\n",
    "    pipeline = Pipeline(stages=[\n",
    "        string_indexer, onehot_encoder, vector_num_assembler,\n",
    "        numeric_scaler, \n",
    "        binarizer, \n",
    "        vector_all_assembler,\n",
    "        linear_regression\n",
    "    ])\n",
    "\n",
    "    return pipeline"
   ]
  },
  {
   "cell_type": "code",
   "execution_count": 19,
   "metadata": {},
   "outputs": [],
   "source": [
    "pipeline = create_pipeline(categorical_features=categorical_features,\n",
    "                           numeric_features=numeric_features,\n",
    "                           binary_features=binary_features,\n",
    "                           binarized_col=\"passenger_count\",\n",
    "                           threshold=5.0,\n",
    "                           label_col=\"trip_distance\",\n",
    "                           max_iter=5)"
   ]
  },
  {
   "cell_type": "markdown",
   "metadata": {},
   "source": [
    "#### Обучение модели\n",
    "\n",
    "Выполним **подбор гиперпараметров** модели линейной регрессии с помощью кросс-валидации на сетке.\n",
    "\n",
    "Создаем сетку параметров для кросс-валидации, получив объект `LinearRegression` из конвейера."
   ]
  },
  {
   "cell_type": "code",
   "execution_count": 20,
   "metadata": {},
   "outputs": [],
   "source": [
    "param_grid = ParamGridBuilder() \\\n",
    "    .addGrid(pipeline.getStages()[-1].regParam, [0.01, 0.1, 1.0]) \\\n",
    "    .addGrid(pipeline.getStages()[-1].elasticNetParam, [0.0, 0.5, 1.0]) \\\n",
    "    .build()"
   ]
  },
  {
   "cell_type": "markdown",
   "metadata": {},
   "source": [
    "Создаем экземпляр `RegressionEvaluator` для оценки модели."
   ]
  },
  {
   "cell_type": "code",
   "execution_count": 21,
   "metadata": {},
   "outputs": [],
   "source": [
    "cv_evaluator = RegressionEvaluator(labelCol=\"trip_distance\",\n",
    "                                   predictionCol=\"prediction\",\n",
    "                                   metricName=\"rmse\")"
   ]
  },
  {
   "cell_type": "markdown",
   "metadata": {},
   "source": [
    "Создаем объект `CrossValidator`."
   ]
  },
  {
   "cell_type": "code",
   "execution_count": 22,
   "metadata": {},
   "outputs": [],
   "source": [
    "cross_validator = CrossValidator(estimator=pipeline,\n",
    "                                 estimatorParamMaps=param_grid,\n",
    "                                 evaluator=cv_evaluator,\n",
    "                                 numFolds=5)"
   ]
  },
  {
   "cell_type": "markdown",
   "metadata": {},
   "source": [
    "Обучаем модель конвейера с использованием кросс-валидации."
   ]
  },
  {
   "cell_type": "code",
   "execution_count": 23,
   "metadata": {},
   "outputs": [
    {
     "name": "stderr",
     "output_type": "stream",
     "text": [
      "24/11/17 14:16:43 WARN InstanceBuilder: Failed to load implementation from:dev.ludovic.netlib.blas.JNIBLAS\n",
      "24/11/17 14:19:42 WARN InstanceBuilder: Failed to load implementation from:dev.ludovic.netlib.lapack.JNILAPACK\n",
      "24/11/17 14:19:42 WARN Instrumentation: [d24f4bab] Cholesky solver failed due to singular covariance matrix. Retrying with Quasi-Newton solver.\n",
      "24/11/17 14:43:35 WARN Instrumentation: [4067fa97] Cholesky solver failed due to singular covariance matrix. Retrying with Quasi-Newton solver.\n",
      "24/11/17 15:05:51 WARN Instrumentation: [f700d416] Cholesky solver failed due to singular covariance matrix. Retrying with Quasi-Newton solver.\n",
      "24/11/17 15:29:39 WARN Instrumentation: [5f528be1] Cholesky solver failed due to singular covariance matrix. Retrying with Quasi-Newton solver.\n",
      "24/11/17 15:51:54 WARN Instrumentation: [af0bb891] Cholesky solver failed due to singular covariance matrix. Retrying with Quasi-Newton solver.\n",
      "24/11/17 16:12:46 WARN Instrumentation: [d753fdf2] Cholesky solver failed due to singular covariance matrix. Retrying with Quasi-Newton solver.\n",
      "24/11/17 16:34:51 WARN Instrumentation: [644a5ced] Cholesky solver failed due to singular covariance matrix. Retrying with Quasi-Newton solver.\n",
      "24/11/17 16:56:17 WARN Instrumentation: [bc2c9cca] Cholesky solver failed due to singular covariance matrix. Retrying with Quasi-Newton solver.\n",
      "24/11/17 17:16:16 WARN Instrumentation: [d4cbc92c] Cholesky solver failed due to singular covariance matrix. Retrying with Quasi-Newton solver.\n",
      "24/11/17 17:37:29 WARN Instrumentation: [6eee5fad] Cholesky solver failed due to singular covariance matrix. Retrying with Quasi-Newton solver.\n",
      "24/11/17 17:59:04 WARN Instrumentation: [986645c3] Cholesky solver failed due to singular covariance matrix. Retrying with Quasi-Newton solver.\n",
      "24/11/17 18:19:34 WARN Instrumentation: [7abf839f] Cholesky solver failed due to singular covariance matrix. Retrying with Quasi-Newton solver.\n",
      "24/11/17 18:41:03 WARN Instrumentation: [3ca1895a] Cholesky solver failed due to singular covariance matrix. Retrying with Quasi-Newton solver.\n",
      "24/11/17 19:02:21 WARN Instrumentation: [1f6409be] Cholesky solver failed due to singular covariance matrix. Retrying with Quasi-Newton solver.\n",
      "24/11/17 19:22:30 WARN Instrumentation: [db450438] Cholesky solver failed due to singular covariance matrix. Retrying with Quasi-Newton solver.\n",
      "                                                                                \r"
     ]
    }
   ],
   "source": [
    "cv_model = cross_validator.fit(train_df)"
   ]
  },
  {
   "cell_type": "markdown",
   "metadata": {},
   "source": [
    "Выведем параметры **лучшей** модели, определенной в ходе кросс-валидации."
   ]
  },
  {
   "cell_type": "code",
   "execution_count": 24,
   "metadata": {},
   "outputs": [],
   "source": [
    "def get_best_model_params(cv_model: CrossValidatorModel) -> dict[str, float]:\n",
    "    \"\"\"\n",
    "    Получает параметры лучшей модели из объекта CrossValidatorModel.\n",
    "\n",
    "    Args:\n",
    "        cv_model (CrossValidatorModel): Объект CrossValidatorModel, \n",
    "            содержащий лучшую модель.\n",
    "\n",
    "    Returns:\n",
    "        Dict[str, float]: Параметры лучшей модели.\n",
    "    \"\"\"\n",
    "    best_model = cv_model.bestModel\n",
    "    best_params = {\n",
    "        \"regParam\": best_model.stages[-1].getRegParam(),\n",
    "        \"elasticNetParam\": best_model.stages[-1].getElasticNetParam(),\n",
    "        \"maxIter\": best_model.stages[-1].getMaxIter()\n",
    "    }\n",
    "    return best_params"
   ]
  },
  {
   "cell_type": "code",
   "execution_count": 25,
   "metadata": {},
   "outputs": [
    {
     "name": "stdout",
     "output_type": "stream",
     "text": [
      "regParam: 0.01\n",
      "elasticNetParam: 1.0\n",
      "maxIter: 5\n"
     ]
    }
   ],
   "source": [
    "for key, value in get_best_model_params(cv_model=cv_model).items():\n",
    "    print(f\"{key}: {value}\")"
   ]
  },
  {
   "cell_type": "markdown",
   "metadata": {},
   "source": [
    "#### Анализ процесса обучения\n",
    "\n",
    "Визуализируем изменение ошибки модели в ходе обучения и рассчитаем метрики на обучающем датасете."
   ]
  },
  {
   "cell_type": "code",
   "execution_count": 26,
   "metadata": {},
   "outputs": [],
   "source": [
    "def plot_training_summary(cv_model: DataFrame) -> None:\n",
    "    \"\"\"\n",
    "    Отображает графики зависимости значения ошибки от номера итерации на\n",
    "    обучающей выборке, а также значения метрик RMSE и R^2.\n",
    "\n",
    "    Args:\n",
    "        cv_model (DataFrame): Обученная модель с использованием кросс-валидации.\n",
    "    \"\"\"\n",
    "    # Получаем лучшую модель\n",
    "    best_model = cv_model.bestModel\n",
    "\n",
    "    # Получаем информацию о процессе обучения\n",
    "    training_summary = best_model.stages[-1].summary\n",
    "\n",
    "    # Получаем значения ошибки для каждой итерации\n",
    "    objective_history = training_summary.objectiveHistory\n",
    "\n",
    "    # Строим график зависимости значения ошибки от номера итерации\n",
    "    plt.figure(figsize=(10, 6))\n",
    "    sns.lineplot(x=range(len(objective_history)), \n",
    "                 y=objective_history, \n",
    "                 marker='o')\n",
    "    plt.xlabel('Итерация')\n",
    "    plt.ylabel('Ошибка')\n",
    "    plt.title(\"Зависимость значения функции ошибки от номера итерации\")\n",
    "\n",
    "    # Получаем значения метрик\n",
    "    rmse = training_summary.rootMeanSquaredError\n",
    "    r2 = training_summary.r2\n",
    "\n",
    "    # Добавляем значения метрик на график\n",
    "    plt.text(0.95, 0.95, f\"RMSE: {rmse:.2f}\\nR^2: {r2:.2f}\",\n",
    "             transform=plt.gca().transAxes, ha='right', va='top',\n",
    "             bbox=dict(facecolor='white', alpha=0.8), zorder=5)\n",
    "    plt.grid()\n",
    "\n",
    "    plt.show()"
   ]
  },
  {
   "cell_type": "code",
   "execution_count": 27,
   "metadata": {},
   "outputs": [
    {
     "data": {
      "image/png": "[encoded data removed]",
      "text/plain": [
       "<Figure size 1000x600 with 1 Axes>"
      ]
     },
     "metadata": {},
     "output_type": "display_data"
    }
   ],
   "source": [
    "plot_training_summary(cv_model)"
   ]
  },
  {
   "cell_type": "markdown",
   "metadata": {},
   "source": [
    "#### Проверка обобщающей способности модели\n",
    "\n",
    "Выполним предсказания на тестовой выборке. \n",
    "\n",
    "Перегруппируем колонки датафрейма, переставив столбец с рекомендациями статей в конец, чтобы его значения было удобно сравнивать с предсказанными."
   ]
  },
  {
   "cell_type": "code",
   "execution_count": 28,
   "metadata": {},
   "outputs": [
    {
     "name": "stderr",
     "output_type": "stream",
     "text": [
      "[Stage 441:>                                                        (0 + 1) / 1]\r"
     ]
    },
    {
     "name": "stdout",
     "output_type": "stream",
     "text": [
      "+--------+---------------+----------+------------------+------------+-----------+-----+----------+------------+------------+--------------+----------------+------------------+-------------+--------------+----------------+--------------------+---------------------+----------------------+--------------------+--------------------+-------------+\n",
      "|VendorID|passenger_count|RateCodeID|store_and_fwd_flag|payment_type|fare_amount|extra|tip_amount|tolls_amount|total_amount|VendorID_index|RateCodeID_index|payment_type_index| VendorID_ohe|RateCodeID_ohe|payment_type_ohe|      numeric_vector|numeric_vector_scaled|passenger_count_binary|            features|          prediction|trip_distance|\n",
      "+--------+---------------+----------+------------------+------------+-----------+-----+----------+------------+------------+--------------+----------------+------------------+-------------+--------------+----------------+--------------------+---------------------+----------------------+--------------------+--------------------+-------------+\n",
      "|     1.0|            0.0|       1.0|             false|         1.0|        2.5|  1.0|      0.85|         0.0|        5.15|           1.0|             0.0|               0.0|(3,[1],[1.0])| (7,[0],[1.0])|   (5,[0],[1.0])|[2.5,1.0,0.850000...| [0.02502764097113...|                   0.0|(22,[1,3,10,16,17...| -0.1928629589014419|          0.0|\n",
      "|     1.0|            0.0|       1.0|             false|         1.0|        3.5|  0.5|      0.95|         0.0|        5.75|           1.0|             0.0|               0.0|(3,[1],[1.0])| (7,[0],[1.0])|   (5,[0],[1.0])|[3.5,0.5,0.949999...| [0.03507890240441...|                   0.0|(22,[1,3,10,16,17...| 0.07031750700208184|          0.0|\n",
      "|     1.0|            0.0|       1.0|             false|         2.0|        2.5|  0.5|       0.0|         0.0|         3.8|           1.0|             0.0|               1.0|(3,[1],[1.0])| (7,[0],[1.0])|   (5,[1],[1.0])|[2.5,0.5,0.0,0.0,...| [0.02502764097113...|                   0.0|(22,[1,3,11,16,17...| -0.1449904759074334|          0.0|\n",
      "|     1.0|            0.0|       1.0|             false|         2.0|        2.5|  1.0|       0.0|         0.0|         4.3|           1.0|             0.0|               1.0|(3,[1],[1.0])| (7,[0],[1.0])|   (5,[1],[1.0])|[2.5,1.0,0.0,0.0,...| [0.02502764097113...|                   0.0|(22,[1,3,11,16,17...|-0.08173703676627153|          0.0|\n",
      "|     1.0|            0.0|       1.0|             false|         2.0|        3.0|  0.5|       0.0|         0.0|         4.3|           1.0|             0.0|               1.0|(3,[1],[1.0])| (7,[0],[1.0])|   (5,[1],[1.0])|[3.0,0.5,0.0,0.0,...| [0.03005327168777...|                   0.0|(22,[1,3,11,16,17...|0.011901156830053994|          0.0|\n",
      "|     1.0|            0.0|       1.0|             false|         3.0|        2.5|  0.5|       0.0|         0.0|         3.8|           1.0|             0.0|               2.0|(3,[1],[1.0])| (7,[0],[1.0])|   (5,[2],[1.0])|[2.5,0.5,0.0,0.0,...| [0.02502764097113...|                   0.0|(22,[1,3,12,16,17...|-0.25160118465572623|          0.0|\n",
      "|     1.0|            0.0|       1.0|             false|         3.0|        2.5|  0.5|       0.0|         0.0|         3.8|           1.0|             0.0|               2.0|(3,[1],[1.0])| (7,[0],[1.0])|   (5,[2],[1.0])|[2.5,0.5,0.0,0.0,...| [0.02502764097113...|                   0.0|(22,[1,3,12,16,17...|-0.25160118465572623|          0.0|\n",
      "|     1.0|            0.0|       1.0|             false|         4.0|        2.5|  1.0|       0.0|         0.0|         4.3|           1.0|             0.0|               3.0|(3,[1],[1.0])| (7,[0],[1.0])|   (5,[3],[1.0])|[2.5,1.0,0.0,0.0,...| [0.02502764097113...|                   0.0|(22,[1,3,13,16,17...|-0.18834774551456424|          0.0|\n",
      "|     1.0|            0.0|       1.0|             false|         1.0|        3.5|  0.5|       0.6|         0.0|         5.4|           1.0|             0.0|               0.0|(3,[1],[1.0])| (7,[0],[1.0])|   (5,[0],[1.0])|[3.5,0.5,0.600000...| [0.03507890240441...|                   0.0|(22,[1,3,10,16,17...|0.026040132781001812|          0.1|\n",
      "|     1.0|            0.0|       1.0|             false|         2.0|        2.5|  0.5|       0.0|         0.0|         3.8|           1.0|             0.0|               1.0|(3,[1],[1.0])| (7,[0],[1.0])|   (5,[1],[1.0])|[2.5,0.5,0.0,0.0,...| [0.02502764097113...|                   0.0|(22,[1,3,11,16,17...| -0.1449904759074334|          0.1|\n",
      "|     1.0|            0.0|       1.0|             false|         2.0|        3.0|  1.0|       0.0|         0.0|         4.8|           1.0|             0.0|               1.0|(3,[1],[1.0])| (7,[0],[1.0])|   (5,[1],[1.0])|[3.0,1.0,0.0,0.0,...| [0.03005327168777...|                   0.0|(22,[1,3,11,16,17...|  0.0751545658096402|          0.1|\n",
      "|     1.0|            0.0|       1.0|             false|         2.0|        3.0|  1.0|       0.0|         0.0|         4.8|           1.0|             0.0|               1.0|(3,[1],[1.0])| (7,[0],[1.0])|   (5,[1],[1.0])|[3.0,1.0,0.0,0.0,...| [0.03005327168777...|                   0.0|(22,[1,3,11,16,17...|  0.0751545658096402|          0.1|\n",
      "|     1.0|            0.0|       1.0|             false|         2.0|        3.5|  0.5|       0.0|         0.0|         4.8|           1.0|             0.0|               1.0|(3,[1],[1.0])| (7,[0],[1.0])|   (5,[1],[1.0])|[3.5,0.5,0.0,0.0,...| [0.03507890240441...|                   0.0|(22,[1,3,11,16,17...|  0.1687927594059655|          0.2|\n",
      "|     1.0|            0.0|       1.0|             false|         1.0|        3.5|  0.5|      0.95|         0.0|        5.75|           1.0|             0.0|               0.0|(3,[1],[1.0])| (7,[0],[1.0])|   (5,[0],[1.0])|[3.5,0.5,0.949999...| [0.03507890240441...|                   0.0|(22,[1,3,10,16,17...| 0.07031750700208184|          0.3|\n",
      "|     1.0|            0.0|       1.0|             false|         1.0|        3.5|  1.0|       1.0|         0.0|         6.3|           1.0|             0.0|               0.0|(3,[1],[1.0])| (7,[0],[1.0])|   (5,[0],[1.0])|[3.5,1.0,1.0,0.0,...| [0.03507890240441...|                   0.0|(22,[1,3,10,16,17...|  0.1398962810088875|          0.3|\n",
      "|     1.0|            0.0|       1.0|             false|         1.0|        4.0|  1.0|       0.6|         0.0|         6.4|           1.0|             0.0|               0.0|(3,[1],[1.0])| (7,[0],[1.0])|   (5,[0],[1.0])|[4.0,1.0,0.600000...| [0.04010453312106...|                   0.0|(22,[1,3,10,16,17...| 0.24618514433649974|          0.3|\n",
      "|     1.0|            0.0|       1.0|             false|         2.0|        3.0|  1.0|       0.0|         0.0|         4.8|           1.0|             0.0|               1.0|(3,[1],[1.0])| (7,[0],[1.0])|   (5,[1],[1.0])|[3.0,1.0,0.0,0.0,...| [0.03005327168777...|                   0.0|(22,[1,3,11,16,17...|  0.0751545658096402|          0.3|\n",
      "|     1.0|            0.0|       1.0|             false|         2.0|        3.5|  1.0|       0.0|         0.0|         5.3|           1.0|             0.0|               1.0|(3,[1],[1.0])| (7,[0],[1.0])|   (5,[1],[1.0])|[3.5,1.0,0.0,0.0,...| [0.03507890240441...|                   0.0|(22,[1,3,11,16,17...|  0.2320461683855517|          0.3|\n",
      "|     1.0|            0.0|       1.0|             false|         2.0|        4.5|  0.5|       0.0|         0.0|         5.8|           1.0|             0.0|               1.0|(3,[1],[1.0])| (7,[0],[1.0])|   (5,[1],[1.0])|[4.5,0.5,0.0,0.0,...| [0.04513016383770...|                   0.0|(22,[1,3,11,16,17...| 0.48257596455778895|          0.3|\n",
      "|     1.0|            0.0|       1.0|              true|         1.0|        5.5|  0.5|       2.0|         0.0|         8.8|           1.0|             0.0|               0.0|(3,[1],[1.0])| (7,[0],[1.0])|   (5,[0],[1.0])|[5.5,0.5,2.0,0.0,...| [0.05518142527099...|                   0.0|(22,[1,3,10,15,16...|    0.83071610029212|          0.3|\n",
      "+--------+---------------+----------+------------------+------------+-----------+-----+----------+------------+------------+--------------+----------------+------------------+-------------+--------------+----------------+--------------------+---------------------+----------------------+--------------------+--------------------+-------------+\n",
      "only showing top 20 rows\n",
      "\n"
     ]
    },
    {
     "name": "stderr",
     "output_type": "stream",
     "text": [
      "                                                                                \r"
     ]
    }
   ],
   "source": [
    "# Получаем датасет предсказаний\n",
    "test_df_predictions = cv_model.transform(test_df)\n",
    "\n",
    "# Извлекаем список колонок, устанавливаем цену на последнее место\n",
    "right_columns_order = test_df_predictions.columns\n",
    "right_columns_order.remove(\"trip_distance\")\n",
    "right_columns_order.append(\"trip_distance\")\n",
    "\n",
    "# Изменяем последовательность колонок и выводим датафрейм\n",
    "test_df_predictions = test_df_predictions.select(*right_columns_order)\n",
    "test_df_predictions.show()"
   ]
  },
  {
   "cell_type": "markdown",
   "metadata": {},
   "source": [
    "Создадим функцию оценки модели: расчета метрик для некоторого датасета, как правило, тестового."
   ]
  },
  {
   "cell_type": "code",
   "execution_count": 29,
   "metadata": {},
   "outputs": [],
   "source": [
    "def evaluate_model(data: DataFrame, metric_name: str) -> float:\n",
    "    \"\"\"\n",
    "    Оценивает модель с использованием указанной метрики.\n",
    "\n",
    "    Args:\n",
    "        data (DataFrame): DataFrame, содержащий предсказания и фактические метки.\n",
    "        metric_name (str): Название метрики для оценки (например, \"rmse\", \"r2\").\n",
    "\n",
    "    Returns:\n",
    "        float: Значение указанной метрики.\n",
    "    \"\"\"\n",
    "    evaluator = RegressionEvaluator(labelCol=\"trip_distance\", \n",
    "                                    predictionCol=\"prediction\", \n",
    "                                    metricName=metric_name)\n",
    "    metric_value = evaluator.evaluate(data)\n",
    "    return metric_value"
   ]
  },
  {
   "cell_type": "markdown",
   "metadata": {},
   "source": [
    "Оценим модель на тестовой выборке."
   ]
  },
  {
   "cell_type": "code",
   "execution_count": 30,
   "metadata": {},
   "outputs": [
    {
     "name": "stderr",
     "output_type": "stream",
     "text": [
      "[Stage 443:============================>                            (1 + 1) / 2]\r"
     ]
    },
    {
     "name": "stdout",
     "output_type": "stream",
     "text": [
      "RMSE on test data: 0.69\n",
      "R^2 on test data: 0.94\n"
     ]
    },
    {
     "name": "stderr",
     "output_type": "stream",
     "text": [
      "                                                                                \r"
     ]
    }
   ],
   "source": [
    "test_rmse = evaluate_model(test_df_predictions, \"rmse\")\n",
    "test_r2 = evaluate_model(test_df_predictions, \"r2\")\n",
    "\n",
    "print(f\"RMSE on test data: {test_rmse:.2f}\")\n",
    "print(f\"R^2 on test data: {test_r2:.2f}\")"
   ]
  },
  {
   "cell_type": "markdown",
   "metadata": {},
   "source": [
    "Метрики весьма неплохие для линейной модели!"
   ]
  },
  {
   "cell_type": "markdown",
   "metadata": {},
   "source": [
    "#### Сохранение модели\n",
    "\n",
    "Зададим директорию студента в `HDFS`, в которой будет сохранена обученная модель."
   ]
  },
  {
   "cell_type": "code",
   "execution_count": 31,
   "metadata": {},
   "outputs": [],
   "source": [
    "student_hdfs_folder = \"gysynin_dmitry_data\""
   ]
  },
  {
   "cell_type": "code",
   "execution_count": 32,
   "metadata": {},
   "outputs": [
    {
     "name": "stderr",
     "output_type": "stream",
     "text": [
      "[Stage 463:>                                                        (0 + 1) / 1]\r"
     ]
    },
    {
     "name": "stdout",
     "output_type": "stream",
     "text": [
      "Модель успешно сохранена в \"hdfs:///user/user0/gysynin_dmitry_data/models/lr-model-4(last)\"\n"
     ]
    },
    {
     "name": "stderr",
     "output_type": "stream",
     "text": [
      "                                                                                \r"
     ]
    }
   ],
   "source": [
    "# Получаем имя пользователя\n",
    "user_name = os.getenv(\"USER\")\n",
    "\n",
    "# Путь модели в HDFS\n",
    "model_hdfs_path = f\"hdfs:///user/{user_name}/{student_hdfs_folder}/models/lr-model-4(last)\"\n",
    "\n",
    "# Сохраняем модель конвейера в HDFS\n",
    "try:\n",
    "    cv_model.bestModel.save(model_hdfs_path)\n",
    "    print(f\"Модель успешно сохранена в \\\"{model_hdfs_path}\\\"\")\n",
    "except Exception as e:\n",
    "    print(f\"Ошибка при сохранении модели: {e}\")"
   ]
  },
  {
   "cell_type": "markdown",
   "metadata": {},
   "source": [
    "Не забываем завершать `Spark`-сессию."
   ]
  },
  {
   "cell_type": "code",
   "execution_count": 33,
   "metadata": {},
   "outputs": [],
   "source": [
    "spark.stop()"
   ]
  }
 ],
 "metadata": {
  "kernelspec": {
   "display_name": "Python 3",
   "language": "python",
   "name": "python3"
  },
  "language_info": {
   "codemirror_mode": {
    "name": "ipython",
    "version": 3
   },
   "file_extension": ".py",
   "mimetype": "text/x-python",
   "name": "python",
   "nbconvert_exporter": "python",
   "pygments_lexer": "ipython3",
   "version": "3.11.9"
  }
 },
 "nbformat": 4,
 "nbformat_minor": 2
}
